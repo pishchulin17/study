{
  "nbformat": 4,
  "nbformat_minor": 0,
  "metadata": {
    "colab": {
      "provenance": [],
      "include_colab_link": true
    },
    "kernelspec": {
      "name": "python3",
      "display_name": "Python 3"
    },
    "language_info": {
      "name": "python"
    }
  },
  "cells": [
    {
      "cell_type": "markdown",
      "metadata": {
        "id": "view-in-github",
        "colab_type": "text"
      },
      "source": [
        "<a href=\"https://colab.research.google.com/github/pishchulin17/study/blob/main/python_lab_04_lists_tuples.ipynb\" target=\"_parent\"><img src=\"https://colab.research.google.com/assets/colab-badge.svg\" alt=\"Open In Colab\"/></a>"
      ]
    },
    {
      "cell_type": "markdown",
      "source": [
        "# Лабораторная работа №4: списки"
      ],
      "metadata": {
        "id": "s4tNceTbpGIA"
      }
    },
    {
      "cell_type": "markdown",
      "source": [
        "## Список (list)\n",
        "\n",
        "Список - это упорядоченная изменяемая коллекция объектов.\n",
        "- в одном списке могут одновременно храниться объекты разных типов\n",
        "- списки могут хранить любое количество объектов\n",
        "- списки могут иметь сколько угодно уровней вложенности (список из списков)\n"
      ],
      "metadata": {
        "id": "ky01eQDjserH"
      }
    },
    {
      "cell_type": "code",
      "execution_count": null,
      "metadata": {
        "id": "TpD4tmNIo8MP"
      },
      "outputs": [],
      "source": [
        "# список из трёх строковых объектов\n",
        "words = [\"Привет\", \"РУДН\", 42, True]"
      ]
    },
    {
      "cell_type": "markdown",
      "source": [
        "Функцией [len()](https://docs.python.org/3/library/functions.html#len) можно вывести количество элементов в списке (его длину)\n"
      ],
      "metadata": {
        "id": "eje7bmbpZsdV"
      }
    },
    {
      "cell_type": "code",
      "source": [
        "len(words)"
      ],
      "metadata": {
        "id": "OJ6bwpHEaSx9"
      },
      "execution_count": null,
      "outputs": []
    },
    {
      "cell_type": "markdown",
      "source": [
        "### Получение элементов из списка\n"
      ],
      "metadata": {
        "id": "34_91sfcEIG_"
      }
    },
    {
      "cell_type": "markdown",
      "source": [
        "#### Получение по индексу\n",
        "\n",
        "синтаксис:\n",
        "`mylist[index]`\n",
        "\n",
        "- Индекс - целое число\n",
        "- Индексы отсчитываются с `0`. Максимальный индекс - `длина списка-1`\n",
        "- Можно использовать отрицательную индексацию\n",
        "- Усли индекса не существует - будет ошибка"
      ],
      "metadata": {
        "id": "RI-77URsEi4t"
      }
    },
    {
      "cell_type": "code",
      "source": [
        "# получение элемента списка по индексу\n",
        "words[1]"
      ],
      "metadata": {
        "id": "4ZuRyGWtEaRW"
      },
      "execution_count": null,
      "outputs": []
    },
    {
      "cell_type": "markdown",
      "source": [
        "#### Задача 1\n",
        "\n",
        "Вы программируете вендинговый автомат, в котором в разных ячейках лежат продукты. Чтобы купить продукт, пользователю нужно ввести номер ячейки. \n",
        "1. Запросите у пользователя номер ячейки\n",
        "2. Если ячейка существует - выведите сообщение вида \"Вы выбрали продукт: `{имя продукта}`\".\n",
        "3. Если ячеки не существует или она пуста - выведите соответствующее сообщение."
      ],
      "metadata": {
        "id": "4bxP2wH7B02o"
      }
    },
    {
      "cell_type": "code",
      "source": [
        "items = ['газировка', 'сок', 'шоколадка', 'вода', 'печенье', 'бутерброд', 'орешки']\n",
        "number_items = int(input())\n",
        "a = items[number_items]\n",
        "print(a)"
      ],
      "metadata": {
        "id": "eFlDGEanDeji",
        "outputId": "eb24fe79-2a9a-430d-c462-ab64e31614aa",
        "colab": {
          "base_uri": "https://localhost:8080/"
        }
      },
      "execution_count": 5,
      "outputs": [
        {
          "output_type": "stream",
          "name": "stdout",
          "text": [
            "3\n",
            "вода\n"
          ]
        }
      ]
    },
    {
      "cell_type": "markdown",
      "source": [
        "#### Cрезы\n",
        "- синтаксис `mylist[start:end]`, где end - индекс заключительного элемента, который не войдёт в срез\n",
        "- вместо индекса можно оставить пустое место, тогда срез включит все элементы от / до\n",
        "- можно использовать отрицательные индексы\n",
        "- полный синтаксис: `mylist[start:end:step]`, где step - шаг для выборки элементов в пределах диапазона [start:end]\n"
      ],
      "metadata": {
        "id": "Tj9QoJTWEo21"
      }
    },
    {
      "cell_type": "code",
      "source": [
        "items[0:3]"
      ],
      "metadata": {
        "id": "RjLn9h-xFLCb"
      },
      "execution_count": null,
      "outputs": []
    },
    {
      "cell_type": "markdown",
      "source": [
        "### Задача 2\n",
        "Используя синтаксис срезов и ассортимент вендингового автомата из предыдущего задания, выведите:\n",
        "1. ['газировка', 'сок', 'шоколадка']\n",
        "2. ['бутерброд', 'орешки'] - двумя способами\n",
        "3. все нечётные элементы\n",
        "4. элементы в обратном порядке"
      ],
      "metadata": {
        "id": "xxBWz43qflO_"
      }
    },
    {
      "cell_type": "code",
      "source": [
        "items = ['газировка', 'сок', 'шоколадка', 'вода', 'печенье', 'бутерброд', 'орешки']\n",
        "print(items[0:3])\n",
        "print(items[5:])\n",
        "print(items[-2:])\n",
        "print(items[1::2])\n",
        "print(items[::-1])"
      ],
      "metadata": {
        "id": "M5VQVNxmhAkV",
        "outputId": "7097d840-6187-4394-94ec-3c2140648684",
        "colab": {
          "base_uri": "https://localhost:8080/"
        }
      },
      "execution_count": 8,
      "outputs": [
        {
          "output_type": "stream",
          "name": "stdout",
          "text": [
            "['газировка', 'сок', 'шоколадка']\n",
            "['бутерброд', 'орешки']\n",
            "['бутерброд', 'орешки']\n",
            "['сок', 'вода', 'бутерброд']\n",
            "['орешки', 'бутерброд', 'печенье', 'вода', 'шоколадка', 'сок', 'газировка']\n"
          ]
        }
      ]
    },
    {
      "cell_type": "markdown",
      "source": [
        "### Обновление элементов списка\n",
        "Списки - изменяемый тип данных, поэтому любой элемент списка можно переназначить"
      ],
      "metadata": {
        "id": "dDCJ06wPlD0w"
      }
    },
    {
      "cell_type": "code",
      "source": [
        "items"
      ],
      "metadata": {
        "id": "7qD9cLValqqX",
        "colab": {
          "base_uri": "https://localhost:8080/"
        },
        "outputId": "21df019c-296d-438c-d035-5d30cbc69bf2"
      },
      "execution_count": null,
      "outputs": [
        {
          "output_type": "execute_result",
          "data": {
            "text/plain": [
              "['газировка', 'сок', 'шоколадка', 'вода', 'печенье', 'бутерброд', 'орешки']"
            ]
          },
          "metadata": {},
          "execution_count": 43
        }
      ]
    },
    {
      "cell_type": "code",
      "source": [
        "# переопределение элемента по индексу\n",
        "items[0] = 'питон'\n",
        "items"
      ],
      "metadata": {
        "id": "IR13mRiDP8P0"
      },
      "execution_count": null,
      "outputs": []
    },
    {
      "cell_type": "code",
      "source": [
        "# переопределение нескольких элементов с помощью среза\n",
        "items[0:3] = ['яблоко', 'апельсин', 'яблоко']\n",
        "items"
      ],
      "metadata": {
        "id": "xsHRKZHBmVlG"
      },
      "execution_count": null,
      "outputs": []
    },
    {
      "cell_type": "code",
      "source": [
        "items[8] = 'удав'  # - ?"
      ],
      "metadata": {
        "id": "KlblL4Scmw39"
      },
      "execution_count": null,
      "outputs": []
    },
    {
      "cell_type": "markdown",
      "source": [
        "### Вложенные списки\n",
        "\n",
        "Список может хранить в себе различные типы данных, в том числе списки. При этом иметь сколько угодно уровней вложенности (список из списков)"
      ],
      "metadata": {
        "id": "i5qU3AHCFEVk"
      }
    },
    {
      "cell_type": "code",
      "source": [
        "# список с 2 вложенными списками внутри\n",
        "cities = [['Москва', 'Казань', 'Томск'], ['Мадрид', 'Малага', 'Аликанте']]"
      ],
      "metadata": {
        "id": "ZOoI_LsA5JRN"
      },
      "execution_count": null,
      "outputs": []
    },
    {
      "cell_type": "markdown",
      "source": [
        "Чтобы удобнее было представлять вложенные списки, можно использовать отступы"
      ],
      "metadata": {
        "id": "OsVzBZH9QOn1"
      }
    },
    {
      "cell_type": "code",
      "source": [
        "# то же самое, но в несколько строк\n",
        "cities = [  # внешний список открывается\n",
        "             ['Москва', 'Казань', 'Томск'],  # нулевой элемент вложенного списка\n",
        "             ['Мадрид', 'Малага', 'Аликанте']   # первый элемент вложенного списка\n",
        "         ]  # внешний список закрывается"
      ],
      "metadata": {
        "id": "7HnjDQTw4Nmh"
      },
      "execution_count": null,
      "outputs": []
    },
    {
      "cell_type": "markdown",
      "source": [
        "Практика"
      ],
      "metadata": {
        "id": "KVWkBcXP49jm"
      }
    },
    {
      "cell_type": "code",
      "source": [
        "strange_list = ['яблоко','банан', 'слива', [100, 42, [True]]]"
      ],
      "metadata": {
        "id": "nMvv_d7psPz5"
      },
      "execution_count": null,
      "outputs": []
    },
    {
      "cell_type": "markdown",
      "source": [
        "- как достать банан?\n",
        "- число 100?\n",
        "- True?\n",
        "- какая длина у списка strange_list?\n"
      ],
      "metadata": {
        "id": "KH3U25G7o9lK"
      }
    },
    {
      "cell_type": "code",
      "source": [
        "strange_list = ['яблоко','банан', 'слива', [100, 42, [True]]]\n",
        "print(strange_list[1])\n",
        "print(strange_list[3][0])\n",
        "print(strange_list[3][2][0])\n",
        "print(len(strange_list))\n"
      ],
      "metadata": {
        "id": "o7plrBRooYHM",
        "outputId": "471bc286-3e7b-4752-9eb9-0c6dfb21235f",
        "colab": {
          "base_uri": "https://localhost:8080/"
        }
      },
      "execution_count": 25,
      "outputs": [
        {
          "output_type": "stream",
          "name": "stdout",
          "text": [
            "банан\n",
            "100\n",
            "True\n",
            "4\n"
          ]
        }
      ]
    },
    {
      "cell_type": "markdown",
      "source": [
        "### Задача 3 - крестики нолики\n",
        "\n",
        "Вы играете за крестики. \n",
        "1. Сделайте выигрышный ход\n",
        "2. Выведите игровое поле\n",
        "- подсказка: для вывода поля используйте цикл for (каждую строчку поля нужно напечатать на новой строке)\n"
      ],
      "metadata": {
        "id": "KvSG0eso4f88"
      }
    },
    {
      "cell_type": "code",
      "source": [
        "\n",
        "game = [\n",
        "    [\"X\", \" \", \" \"],\n",
        "    [\"O\", \"X\", \"X\"],\n",
        "    [\"O\", \"O\", \" \"],\n",
        "]\n",
        "game[0][0], game [0][1], game[0][2] = 'x', 'x', 'x'\n",
        "game[2][2] = 'x'\n",
        "for i in game:\n",
        "  print(i)\n",
        "\n"
      ],
      "metadata": {
        "id": "wsO9Fpb94qdM",
        "outputId": "801f64b7-521a-4b68-b835-003b16428b16",
        "colab": {
          "base_uri": "https://localhost:8080/"
        }
      },
      "execution_count": 34,
      "outputs": [
        {
          "output_type": "stream",
          "name": "stdout",
          "text": [
            "['x', 'x', 'x']\n",
            "['O', 'X', 'X']\n",
            "['O', 'O', 'x']\n"
          ]
        }
      ]
    },
    {
      "cell_type": "markdown",
      "source": [
        "### Методы списков\n",
        "\n",
        "Со списками можно совершать различные преобразования.\n",
        "\n",
        "Например, арифметические:"
      ],
      "metadata": {
        "id": "UAGwC0TAL-4p"
      }
    },
    {
      "cell_type": "code",
      "source": [
        "lst = [1, 2]\n",
        "# можно\n",
        "print(lst + lst)# lst + lst \n",
        "print(lst * 2)# lst * 2\n",
        "\n",
        "# нельзя\n",
        "# lst - lst\n",
        "# lst / 2"
      ],
      "metadata": {
        "id": "dywfcTwGq0wi",
        "colab": {
          "base_uri": "https://localhost:8080/"
        },
        "outputId": "5d20be44-cc66-4498-a44a-ad8ccac1d504"
      },
      "execution_count": 35,
      "outputs": [
        {
          "output_type": "stream",
          "name": "stdout",
          "text": [
            "[1, 2, 1, 2]\n",
            "[1, 2, 1, 2]\n"
          ]
        }
      ]
    },
    {
      "cell_type": "markdown",
      "source": [
        "Специальные методы списков:\n",
        "\n",
        "- `list.sort()`\tСортирует список\n",
        "- `list.append(x)` Добавляет элемент в конец списка\n",
        "- `list.extend(L)`\tРасширяет список list, добавляя в конец все элементы списка L\n",
        "- `list.insert(i, x)`\tВставляет на i-ый элемент значение x\n",
        "- `list.remove(x)`\tУдаляет первый элемент в списке, имеющий значение x. ValueError, если такого элемента не существует\n",
        "- `list.index(x)`\tВозвращает положение первого элемента со значением x\n",
        "- `list.count(x)`\tВозвращает количество элементов со значением x\n",
        "\n",
        "[полный список методов](https://docs.python.org/3/tutorial/datastructures.html)"
      ],
      "metadata": {
        "id": "5wBaJQY8rdTA"
      }
    },
    {
      "cell_type": "code",
      "source": [
        "names = ['Алексей', 'Ирина', 'Аркадий', 'Пётр']"
      ],
      "metadata": {
        "id": "fcQoBL6ENBee"
      },
      "execution_count": null,
      "outputs": []
    },
    {
      "cell_type": "markdown",
      "source": [
        "- Добавьте к списку ещё одно имя: Яна\n",
        "- Добавьте к списку (ещё одного) Алексея и Захара в одно действие\n",
        "- Отсортируйте список. По какому принципу отсортировались имена?\n",
        "- Удалите Аркадия из списка\n",
        "- Посчитайте количество Алексеев в списке\n",
        "- Найдите индекс Ирины, а затем удалите её"
      ],
      "metadata": {
        "id": "HMHe-7IztYpF"
      }
    },
    {
      "cell_type": "code",
      "source": [
        "names = ['Алексей', 'Ирина', 'Аркадий', 'Пётр']\n",
        "names.append('Яна')\n",
        "print(names)\n",
        "l = ['Алексея', 'Захара']\n",
        "names.extend(l)\n",
        "print(names)\n",
        "names.sort()\n",
        "print(names)\n",
        "names.remove('Аркадий')\n",
        "print(names)\n",
        "print(names.count('Алексей'))\n",
        "print(names.index('Ирина'))"
      ],
      "metadata": {
        "id": "afVCKrcUW1r-",
        "outputId": "c41a5dd7-c30e-4c30-dd29-00087b970166",
        "colab": {
          "base_uri": "https://localhost:8080/"
        }
      },
      "execution_count": 42,
      "outputs": [
        {
          "output_type": "stream",
          "name": "stdout",
          "text": [
            "['Алексей', 'Ирина', 'Аркадий', 'Пётр', 'Яна']\n",
            "['Алексей', 'Ирина', 'Аркадий', 'Пётр', 'Яна', 'Алексея', 'Захара']\n",
            "['Алексей', 'Алексея', 'Аркадий', 'Захара', 'Ирина', 'Пётр', 'Яна']\n",
            "['Алексей', 'Алексея', 'Захара', 'Ирина', 'Пётр', 'Яна']\n",
            "1\n",
            "3\n"
          ]
        }
      ]
    },
    {
      "cell_type": "markdown",
      "source": [
        "Полезные конструкции:\n",
        "- проверить, есть ли элемент в списке: `item in list`\n",
        "- перебор элементов списка: `for element in list:`"
      ],
      "metadata": {
        "id": "3hlrcE4kwVyC"
      }
    },
    {
      "cell_type": "markdown",
      "source": [
        "### Задача 4\n",
        "1. проверьте, есть ли в списке names \"Ирина\". Выведите ответ\n",
        "2. проверьте, есть ли в списке names \"Ким\"? Выведите ответ\n",
        "3. выведите все имена и количество букв в них в виде `<имя>`: `<число букв в имени>`. Пример: `Яна: 3`"
      ],
      "metadata": {
        "id": "dPVJcvEz7LBi"
      }
    },
    {
      "cell_type": "code",
      "source": [
        "names = ['Алексей', 'Ирина', 'Аркадий', 'Пётр']\n",
        "a = \"Ирина\" in names\n",
        "print(a)\n",
        "b = \"Ким\" in names\n",
        "for element in names:\n",
        "  print(f\"{element}: {len(element)}\")\n"
      ],
      "metadata": {
        "id": "75bgCFzRw_jJ",
        "outputId": "7b652b8f-488d-416b-9c6d-d61d49b005a9",
        "colab": {
          "base_uri": "https://localhost:8080/"
        }
      },
      "execution_count": 49,
      "outputs": [
        {
          "output_type": "stream",
          "name": "stdout",
          "text": [
            "True\n",
            "Алексей: 7\n",
            "Ирина: 5\n",
            "Аркадий: 7\n",
            "Пётр: 4\n"
          ]
        }
      ]
    },
    {
      "cell_type": "markdown",
      "source": [
        "## Кортежи (tuple)\n",
        "\n",
        "Кортежи (tuple) — это те же списки, только **неизменяемые**. \n",
        "(упорядоченный, неизменяемый, может содержать различные типы данных, может содержать дубликаты)\n",
        "\n",
        "Над кортежами можно производить те же операции, что и над списками, — кроме тех, которые изменяют кортеж."
      ],
      "metadata": {
        "id": "YHszXgT1shZY"
      }
    },
    {
      "cell_type": "code",
      "source": [
        "# создание кортежа\n",
        "test_tuple = ('г', 14, 3.14, ['1-ый эл. списка', '2-ой эл. списка'])\n",
        "\n",
        "# последний элемент кортежа\n",
        "last_element = test_tuple[-1]\n",
        "print(last_element)\n",
        "\n",
        "# срез кортежа с первого по третий элемент\n",
        "tuple_slice = test_tuple[0:3]\n",
        "print(tuple_slice)"
      ],
      "metadata": {
        "id": "QXk_THMfsjUP",
        "colab": {
          "base_uri": "https://localhost:8080/"
        },
        "outputId": "cc5f2278-da8b-4d32-b617-c5eb324a4525"
      },
      "execution_count": 50,
      "outputs": [
        {
          "output_type": "stream",
          "name": "stdout",
          "text": [
            "['1-ый эл. списка', '2-ой эл. списка']\n",
            "('г', 14, 3.14)\n"
          ]
        }
      ]
    },
    {
      "cell_type": "markdown",
      "source": [
        "Зачем нужны кортежи, когда есть списки с более гибким функционалом?"
      ],
      "metadata": {
        "id": "RONMnxqBzQNX"
      }
    },
    {
      "cell_type": "code",
      "source": [
        "# пытаемся изменить значение первого элемента гриб -> гроб\n",
        "test_tuple[2] = 'о'"
      ],
      "metadata": {
        "id": "clU1v9Cjxbyh",
        "outputId": "bab1d6b6-a63e-460d-8b3a-fd2a3af214d7",
        "colab": {
          "base_uri": "https://localhost:8080/",
          "height": 183
        }
      },
      "execution_count": 51,
      "outputs": [
        {
          "output_type": "error",
          "ename": "TypeError",
          "evalue": "ignored",
          "traceback": [
            "\u001b[0;31m---------------------------------------------------------------------------\u001b[0m",
            "\u001b[0;31mTypeError\u001b[0m                                 Traceback (most recent call last)",
            "\u001b[0;32m<ipython-input-51-17a6550636d7>\u001b[0m in \u001b[0;36m<module>\u001b[0;34m\u001b[0m\n\u001b[1;32m      1\u001b[0m \u001b[0;31m# пытаемся изменить значение первого элемента гриб -> гроб\u001b[0m\u001b[0;34m\u001b[0m\u001b[0;34m\u001b[0m\u001b[0;34m\u001b[0m\u001b[0m\n\u001b[0;32m----> 2\u001b[0;31m \u001b[0mtest_tuple\u001b[0m\u001b[0;34m[\u001b[0m\u001b[0;36m2\u001b[0m\u001b[0;34m]\u001b[0m \u001b[0;34m=\u001b[0m \u001b[0;34m'о'\u001b[0m\u001b[0;34m\u001b[0m\u001b[0;34m\u001b[0m\u001b[0m\n\u001b[0m",
            "\u001b[0;31mTypeError\u001b[0m: 'tuple' object does not support item assignment"
          ]
        }
      ]
    },
    {
      "cell_type": "markdown",
      "source": [
        "Иногда программистам важно быть уверенными, что функция не изменит значение объекта. Как для таких случаев используются кортежи. Кроме того, кортежи используют меньше оперативной памяти"
      ],
      "metadata": {
        "id": "feBb4ecIzYzP"
      }
    }
  ]
}