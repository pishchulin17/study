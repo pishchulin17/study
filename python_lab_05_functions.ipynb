{
  "nbformat": 4,
  "nbformat_minor": 0,
  "metadata": {
    "colab": {
      "provenance": [],
      "include_colab_link": true
    },
    "kernelspec": {
      "name": "python3",
      "display_name": "Python 3"
    },
    "language_info": {
      "name": "python"
    }
  },
  "cells": [
    {
      "cell_type": "markdown",
      "metadata": {
        "id": "view-in-github",
        "colab_type": "text"
      },
      "source": [
        "<a href=\"https://colab.research.google.com/github/pishchulin17/study/blob/main/python_lab_05_functions.ipynb\" target=\"_parent\"><img src=\"https://colab.research.google.com/assets/colab-badge.svg\" alt=\"Open In Colab\"/></a>"
      ]
    },
    {
      "cell_type": "markdown",
      "source": [
        "<h1>Практикум №5: функции</h1>"
      ],
      "metadata": {
        "id": "TeegdJME_a0L"
      }
    },
    {
      "cell_type": "markdown",
      "source": [
        "# Введение\n",
        "\n",
        "\n",
        "\n"
      ],
      "metadata": {
        "id": "FpAwO7GLAkv7"
      }
    },
    {
      "cell_type": "code",
      "source": [],
      "metadata": {
        "id": "xENs2iIezexm"
      },
      "execution_count": null,
      "outputs": []
    },
    {
      "cell_type": "markdown",
      "source": [
        "\n",
        "*   Функция — это группа связанных инструкций, выполняющих определенную задачу \n",
        "*   Функции помогают сруктурировать программу, разбив её на более мелкие обособленные фрагменты\n",
        "*   Определив функцию единожды, её можно вызывать из различных мест программы\n",
        "\n",
        "Повторное использование кода — очень важная часть программирования на любом языке. Чтобы писать хороший код, важно соблюдать принцип «DRY» - Don't Repeat Yourself, или «Не повторяйся». Добиться этого помогают циклы, **функции** и классы"
      ],
      "metadata": {
        "id": "UXUqHX1qj9OJ"
      }
    },
    {
      "cell_type": "markdown",
      "source": [
        "Примеры функий, которые вы уже использовали:\n",
        "\n",
        "```\n",
        "print(\"Привет, РУДН!\")\n",
        "range(2, 20)\n",
        "len('Клара Карла украла кораллы')\n",
        "```\n",
        "Каждая из упомянутых функций выполняет определённую задачу. Нам даже не обязательно знать, где находится определение этих функциий и даже как именно они устроены внутри. Нам важно что функция принимает на вход (аргументы) и что она возвращает в результате своей работы. Это называется интерфейсом функции\n",
        "\n",
        "Синтаксис:\n",
        "`название_функции(аргумент1, аргумент2, ...)`\n"
      ],
      "metadata": {
        "id": "-L1HVSLRFUn5"
      }
    },
    {
      "cell_type": "markdown",
      "source": [
        "# Определение функции\n"
      ],
      "metadata": {
        "id": "29IvRZI4EFBP"
      }
    },
    {
      "cell_type": "markdown",
      "source": [
        "\n",
        "Можно не только использовать готовые функции, но и создавать свои собственные.\n",
        "\n",
        "<img src='https://sky.pro/media/wp-content/uploads/2022/07/image1-12-1024x645.png' width = \"400\">"
      ],
      "metadata": {
        "id": "zo16ONk4kEhh"
      }
    },
    {
      "cell_type": "markdown",
      "source": [
        "Определение функции начинается с ключевого слова def (сокр. от \"definition\"). \n",
        "\n",
        "Обратите внимание - тело функции выделяется отступом."
      ],
      "metadata": {
        "id": "i5iOVNPVH7It"
      }
    },
    {
      "cell_type": "code",
      "source": [
        "# определение функции\n",
        "def greet_caesar():\n",
        "    print('Авэ, Цезарь!')\n",
        "    print('Авэ, Цезарь!')\n",
        "    print('Авэ, Цезарь!')"
      ],
      "metadata": {
        "id": "AUJvHDtqAjXS"
      },
      "execution_count": null,
      "outputs": []
    },
    {
      "cell_type": "markdown",
      "source": [
        "Теперь мы можем использовать функцию:"
      ],
      "metadata": {
        "id": "WmvWBpcRH4ms"
      }
    },
    {
      "cell_type": "code",
      "source": [
        "greet_caesar()"
      ],
      "metadata": {
        "id": "7ydzYmtrI0gS",
        "colab": {
          "base_uri": "https://localhost:8080/"
        },
        "outputId": "f97ec342-8ec1-48e4-ea7f-30a3c5840131"
      },
      "execution_count": null,
      "outputs": [
        {
          "output_type": "stream",
          "name": "stdout",
          "text": [
            "Авэ, Цезарь!\n",
            "Авэ, Цезарь!\n",
            "Авэ, Цезарь!\n"
          ]
        }
      ]
    },
    {
      "cell_type": "markdown",
      "source": [
        "Определить функцию в коде нужно заранее (выше) - до того, как она используется"
      ],
      "metadata": {
        "id": "38guA0-gU9r9"
      }
    },
    {
      "cell_type": "code",
      "source": [
        "# функция ещё не определена, поэтому будет ошибка\n",
        "greet_rudn()"
      ],
      "metadata": {
        "id": "i7UzVUSeVSZD",
        "colab": {
          "base_uri": "https://localhost:8080/",
          "height": 183
        },
        "outputId": "cc11fb46-e677-458b-a2c7-6f43f57c8194"
      },
      "execution_count": null,
      "outputs": [
        {
          "output_type": "error",
          "ename": "NameError",
          "evalue": "ignored",
          "traceback": [
            "\u001b[0;31m---------------------------------------------------------------------------\u001b[0m",
            "\u001b[0;31mNameError\u001b[0m                                 Traceback (most recent call last)",
            "\u001b[0;32m<ipython-input-7-400fcafd57fa>\u001b[0m in \u001b[0;36m<module>\u001b[0;34m\u001b[0m\n\u001b[1;32m      1\u001b[0m \u001b[0;31m# функция ещё не определена, поэтому будет ошибка\u001b[0m\u001b[0;34m\u001b[0m\u001b[0;34m\u001b[0m\u001b[0;34m\u001b[0m\u001b[0m\n\u001b[0;32m----> 2\u001b[0;31m \u001b[0mgreet_rudn\u001b[0m\u001b[0;34m(\u001b[0m\u001b[0;34m)\u001b[0m\u001b[0;34m\u001b[0m\u001b[0;34m\u001b[0m\u001b[0m\n\u001b[0m",
            "\u001b[0;31mNameError\u001b[0m: name 'greet_rudn' is not defined"
          ]
        }
      ]
    },
    {
      "cell_type": "markdown",
      "source": [
        "### Задание 1\n",
        "1. Определите функцию `greet_rudn`, которая будет выводить на экран в одну строку:\n",
        "`\"Привет, РУДН! Привет, РУДН! Привет, РУДН!\"`\n",
        "2. Вызовите функцию"
      ],
      "metadata": {
        "id": "L4eYEZ60WMNV"
      }
    },
    {
      "cell_type": "code",
      "source": [
        "\n",
        "def greet_rudn():\n",
        "    print(\"Привет, РУДН! \" * 3)\n",
        "\n",
        "\n",
        "greet_rudn()"
      ],
      "metadata": {
        "id": "viWAygydWzKZ",
        "colab": {
          "base_uri": "https://localhost:8080/"
        },
        "outputId": "2f496db6-f9ef-4656-ff26-2baf1673a16b"
      },
      "execution_count": 2,
      "outputs": [
        {
          "output_type": "stream",
          "name": "stdout",
          "text": [
            "Привет, РУДН! Привет, РУДН! Привет, РУДН! \n"
          ]
        }
      ]
    },
    {
      "cell_type": "markdown",
      "source": [
        "# Аргументы функций\n"
      ],
      "metadata": {
        "id": "nAlTS8OQSGXy"
      }
    },
    {
      "cell_type": "markdown",
      "source": [
        "\n",
        "До этого мы рассматривали простейшие функции без аргументов. Такие функции вызываются с пустыми скобками. Однако большинство функций принимают **аргументы (параметры)**. Ниже определяется функция, которая принимает один аргумент `word`:"
      ],
      "metadata": {
        "id": "1YyQlQ2lkKTg"
      }
    },
    {
      "cell_type": "code",
      "source": [
        "def shout(x):\n",
        "    print(x + '!!!!1')"
      ],
      "metadata": {
        "id": "zBYo7X0tUMZp"
      },
      "execution_count": null,
      "outputs": []
    },
    {
      "cell_type": "code",
      "source": [
        "shout('Пока')"
      ],
      "metadata": {
        "id": "bgW1_ivOYETK",
        "colab": {
          "base_uri": "https://localhost:8080/"
        },
        "outputId": "c0d738bb-3c7f-4276-9aed-f68f79808bac"
      },
      "execution_count": null,
      "outputs": [
        {
          "output_type": "stream",
          "name": "stdout",
          "text": [
            "Пока!!!!1\n"
          ]
        }
      ]
    },
    {
      "cell_type": "markdown",
      "source": [
        "Можно опеределить функцию с несколькими аргументами. В этом случае аргументы нужно передавать через запятую."
      ],
      "metadata": {
        "id": "PAu1RrNWYYqg"
      }
    },
    {
      "cell_type": "code",
      "source": [
        "def print_sum(a, b, c):\n",
        "    print(a + b + c)\n",
        "\n",
        "print_sum(2342, 1234, 1)"
      ],
      "metadata": {
        "id": "vso_HqzDYkrs",
        "colab": {
          "base_uri": "https://localhost:8080/"
        },
        "outputId": "12a5976b-e87c-450d-c148-951b0abe6866"
      },
      "execution_count": null,
      "outputs": [
        {
          "output_type": "stream",
          "name": "stdout",
          "text": [
            "3577\n"
          ]
        }
      ]
    },
    {
      "cell_type": "markdown",
      "source": [
        "### Задание 2\n",
        "Оперелите функцию `multi_greet`, которая приветсвует пользователя по имени определённое число раз. Функция должна принимать имя пользователя и число, и выводить на экран приветстиве вида `Авэ, %имя_пользователя%!` указанное число раз. \n",
        "\n",
        "Например:\n",
        "`Авэ, Юрий! Авэ, Юрий!`"
      ],
      "metadata": {
        "id": "4ZiFN-9dZRAJ"
      }
    },
    {
      "cell_type": "code",
      "source": [
        "# ваш код\n",
        "def multi_greet(name, number):\n",
        "  print(f'Авэ, {name}! ' * number)\n",
        "\n",
        "multi_greet('jksdfgs', 5)\n"
      ],
      "metadata": {
        "id": "DFRk5hbfY7Lj",
        "colab": {
          "base_uri": "https://localhost:8080/"
        },
        "outputId": "8e824f1a-f7c3-4a2d-fcc9-61c79cfd0b94"
      },
      "execution_count": null,
      "outputs": [
        {
          "output_type": "stream",
          "name": "stdout",
          "text": [
            "Авэ, jksdfgs! Авэ, jksdfgs! Авэ, jksdfgs! Авэ, jksdfgs! Авэ, jksdfgs! \n"
          ]
        }
      ]
    },
    {
      "cell_type": "markdown",
      "source": [
        "## Порядок аргументов"
      ],
      "metadata": {
        "id": "ZKvNtrZ0mYgI"
      }
    },
    {
      "cell_type": "code",
      "source": [
        "# функция задаёт информацию о студенте и выводит её на экран в форматированном виде\n",
        "def report_student(first_name, last_name, grade, university):\n",
        "    print(f'{first_name} {last_name} - студент {grade} курса в {university}')"
      ],
      "metadata": {
        "id": "cNiaX0xKnqam"
      },
      "execution_count": null,
      "outputs": []
    },
    {
      "cell_type": "markdown",
      "source": [
        "### Позиционные аргументы (positional arguments)"
      ],
      "metadata": {
        "id": "-r4QOflBsbOn"
      }
    },
    {
      "cell_type": "markdown",
      "source": [
        "Как правило, аргументы в функцию передаются в том же порядке (на теж же позициях), в котором они определены в заголовке функции. \n",
        "В таком случае говорят о **позиционном** задании аргументов"
      ],
      "metadata": {
        "id": "B4wAFvr2qEi2"
      }
    },
    {
      "cell_type": "code",
      "source": [
        "# first_name, last_name, university\n",
        "report_student('Иван', 'Иванов', 1, 'РУДН')\n",
        "report_student('Пётр', 'Сидоров', 4, 'РУДН')"
      ],
      "metadata": {
        "id": "HEGYZtV2qaX9",
        "colab": {
          "base_uri": "https://localhost:8080/"
        },
        "outputId": "c8c66505-11e0-410a-a6ba-cca573cb2864"
      },
      "execution_count": null,
      "outputs": [
        {
          "output_type": "stream",
          "name": "stdout",
          "text": [
            "Иван Иванов - студент 1 курса в РУДН\n",
            "Пётр Сидоров - студент 4 курса в РУДН\n"
          ]
        }
      ]
    },
    {
      "cell_type": "code",
      "source": [
        "# неверный порядок позиционных аргументов\n",
        "report_student('РУДН', 1, 'Иван', 'Иванов')"
      ],
      "metadata": {
        "id": "EosXVgG6rXtK",
        "colab": {
          "base_uri": "https://localhost:8080/"
        },
        "outputId": "873da95c-4d22-4b97-a7b0-68bf05759a26"
      },
      "execution_count": null,
      "outputs": [
        {
          "output_type": "stream",
          "name": "stdout",
          "text": [
            "РУДН 1 - студент Иван курса в Иванов\n"
          ]
        }
      ]
    },
    {
      "cell_type": "markdown",
      "source": [
        "### Ключевые аргументы (keyword arguments)"
      ],
      "metadata": {
        "id": "mUssWMDjtYw9"
      }
    },
    {
      "cell_type": "markdown",
      "source": [
        "Альтернативный способ передать аргументы функции - передать их в виде `имя_аргумента=значение`. Такой способ назвается задание аргументов по **ключу** (ключ=значение). "
      ],
      "metadata": {
        "id": "8GN2VDzFtomc"
      }
    },
    {
      "cell_type": "code",
      "source": [
        "report_student(grade=1, university='РУДН', first_name='Иван', last_name='Иванов')"
      ],
      "metadata": {
        "id": "tzOG-enetjhd",
        "colab": {
          "base_uri": "https://localhost:8080/"
        },
        "outputId": "882037e8-a686-49a8-d22b-23ab7ebf0667"
      },
      "execution_count": null,
      "outputs": [
        {
          "output_type": "stream",
          "name": "stdout",
          "text": [
            "Иван Иванов - студент 1 курса в РУДН\n"
          ]
        }
      ]
    },
    {
      "cell_type": "markdown",
      "source": [
        "### Смешанное задание аргументов"
      ],
      "metadata": {
        "id": "7gDmUUGvvcfZ"
      }
    },
    {
      "cell_type": "markdown",
      "source": [
        "Вышеперечисленные способы можно смешивать: часть аргументов задать по позициям, а часть - по ключу.\n",
        "\n",
        "**Важно: позиционные аргументы идут вначале, а затем - ключевые.**"
      ],
      "metadata": {
        "id": "C9LaE_WNvlaw"
      }
    },
    {
      "cell_type": "code",
      "source": [
        "# смешанное задание аргументов\n",
        "report_student('Иван', 'Иванов', grade=1, university='РУДН', )"
      ],
      "metadata": {
        "id": "tKeFDnnwvkBA",
        "colab": {
          "base_uri": "https://localhost:8080/",
          "height": 131
        },
        "outputId": "4775da2d-ddcd-4891-dd8b-d596f71eaff2"
      },
      "execution_count": null,
      "outputs": [
        {
          "output_type": "error",
          "ename": "SyntaxError",
          "evalue": "ignored",
          "traceback": [
            "\u001b[0;36m  File \u001b[0;32m\"<ipython-input-29-743c25f7e430>\"\u001b[0;36m, line \u001b[0;32m2\u001b[0m\n\u001b[0;31m    report_student(grade=1, 'Иван', 'Иванов', university='РУДН', )\u001b[0m\n\u001b[0m                            ^\u001b[0m\n\u001b[0;31mSyntaxError\u001b[0m\u001b[0;31m:\u001b[0m positional argument follows keyword argument\n"
          ]
        }
      ]
    },
    {
      "cell_type": "code",
      "source": [
        "# а так делать нельзя\n",
        "report_student(grade=1, 'Иван', 'Иванов', university='РУДН')"
      ],
      "metadata": {
        "id": "V9366TDewRNo",
        "colab": {
          "base_uri": "https://localhost:8080/",
          "height": 131
        },
        "outputId": "6afd8279-b435-4de7-c157-384dba803224"
      },
      "execution_count": null,
      "outputs": [
        {
          "output_type": "error",
          "ename": "SyntaxError",
          "evalue": "ignored",
          "traceback": [
            "\u001b[0;36m  File \u001b[0;32m\"<ipython-input-30-497f4e627dd0>\"\u001b[0;36m, line \u001b[0;32m2\u001b[0m\n\u001b[0;31m    report_student(grade=1, 'Иван', 'Иванов', university='РУДН')\u001b[0m\n\u001b[0m                            ^\u001b[0m\n\u001b[0;31mSyntaxError\u001b[0m\u001b[0;31m:\u001b[0m positional argument follows keyword argument\n"
          ]
        }
      ]
    },
    {
      "cell_type": "markdown",
      "source": [
        "### Аргументы по умолчанию"
      ],
      "metadata": {
        "id": "vxYMgdzYwhMe"
      }
    },
    {
      "cell_type": "markdown",
      "source": [
        "Если в функцию не передать один из обязательных аргументов, то будет ошибка."
      ],
      "metadata": {
        "id": "j7PkFFV1nWMu"
      }
    },
    {
      "cell_type": "code",
      "source": [
        "report_student('Иван', 'Иванов', grade=1)"
      ],
      "metadata": {
        "id": "7SFK765kwnHf",
        "colab": {
          "base_uri": "https://localhost:8080/",
          "height": 166
        },
        "outputId": "c5b43124-cc52-435f-de76-56a5cbf9c29c"
      },
      "execution_count": null,
      "outputs": [
        {
          "output_type": "error",
          "ename": "TypeError",
          "evalue": "ignored",
          "traceback": [
            "\u001b[0;31m---------------------------------------------------------------------------\u001b[0m",
            "\u001b[0;31mTypeError\u001b[0m                                 Traceback (most recent call last)",
            "\u001b[0;32m<ipython-input-31-a58cde1c6e42>\u001b[0m in \u001b[0;36m<module>\u001b[0;34m\u001b[0m\n\u001b[0;32m----> 1\u001b[0;31m \u001b[0mreport_student\u001b[0m\u001b[0;34m(\u001b[0m\u001b[0;34m'Иван'\u001b[0m\u001b[0;34m,\u001b[0m \u001b[0;34m'Иванов'\u001b[0m\u001b[0;34m,\u001b[0m \u001b[0mgrade\u001b[0m\u001b[0;34m=\u001b[0m\u001b[0;36m1\u001b[0m\u001b[0;34m)\u001b[0m\u001b[0;34m\u001b[0m\u001b[0;34m\u001b[0m\u001b[0m\n\u001b[0m",
            "\u001b[0;31mTypeError\u001b[0m: report_student() missing 1 required positional argument: 'university'"
          ]
        }
      ]
    },
    {
      "cell_type": "markdown",
      "source": [
        "Однако при определении функции можно задавать значения аргументов по умолчанию.\n",
        "\n",
        "Синтаксис: `def function_name(arg1, arg2=default_value)`"
      ],
      "metadata": {
        "id": "BIdBRp2mmkjh"
      }
    },
    {
      "cell_type": "code",
      "source": [
        "def report_student(first_name, last_name, grade, university='РУДН'):\n",
        "    print(f'{first_name} {last_name} - студент {grade} курса в {university}')"
      ],
      "metadata": {
        "id": "cCWhy6D5wy0F"
      },
      "execution_count": null,
      "outputs": []
    },
    {
      "cell_type": "code",
      "source": [
        "report_student('Иван', 'Иванов', grade=1)\n",
        "report_student('Джон', 'Смит', grade=1, university='MIT')"
      ],
      "metadata": {
        "id": "9OIDYyCQxJ2e",
        "colab": {
          "base_uri": "https://localhost:8080/"
        },
        "outputId": "ab030ee6-4529-443b-ca5f-44feab1c283f"
      },
      "execution_count": null,
      "outputs": [
        {
          "output_type": "stream",
          "name": "stdout",
          "text": [
            "Иван Иванов - студент 1 курса в РУДН\n",
            "Джон Смит - студент 1 курса в MIT\n"
          ]
        }
      ]
    },
    {
      "cell_type": "code",
      "source": [
        "print('sdfsd')\n",
        "print('sdfsd')"
      ],
      "metadata": {
        "colab": {
          "base_uri": "https://localhost:8080/"
        },
        "id": "2kq3oOqXBE0J",
        "outputId": "7cd72ffe-4e54-4ce1-dd8a-fccbc2d4ba4b"
      },
      "execution_count": null,
      "outputs": [
        {
          "output_type": "stream",
          "name": "stdout",
          "text": [
            "sdfsd->sdfsd->"
          ]
        }
      ]
    },
    {
      "cell_type": "markdown",
      "source": [
        "### Задание 4\n",
        "Напишите функцию, которая будет принимать на вход время в часах, минутах и секундах, и переводить результат в минуты.\n",
        "Сделайте так, чтобы секунды являлись необязательным аргументом."
      ],
      "metadata": {
        "id": "sc7m3tkvxmD1"
      }
    },
    {
      "cell_type": "code",
      "source": [
        "\n",
        "def time_in_minutes(hour, minute, second = 0):\n",
        "  print(hour * 60 + minute + second/60)\n",
        " \n",
        "time_in_minutes(21,2)\n"
      ],
      "metadata": {
        "id": "TQDyT8PSyJBT",
        "colab": {
          "base_uri": "https://localhost:8080/"
        },
        "outputId": "d14e8a0a-4b85-498a-a511-d29f4b2d01e9"
      },
      "execution_count": 9,
      "outputs": [
        {
          "output_type": "stream",
          "name": "stdout",
          "text": [
            "1262.0\n"
          ]
        }
      ]
    },
    {
      "cell_type": "markdown",
      "source": [
        "# Возвращаемое значение"
      ],
      "metadata": {
        "id": "6hpLOXKghQyj"
      }
    },
    {
      "cell_type": "markdown",
      "source": [
        "## Инструкция return"
      ],
      "metadata": {
        "id": "t9GPfvd4zYYZ"
      }
    },
    {
      "cell_type": "markdown",
      "source": [
        "\n",
        "Часто от функции требуется вернуть результат её работы, чтобы использовать его дальше в коде программы. Для этого используется инструкция `return`.\n"
      ],
      "metadata": {
        "id": "f-vhiDz0kPPg"
      }
    },
    {
      "cell_type": "code",
      "source": [
        "def sum_numbers(a, b, c):\n",
        "    result = a + b + c\n",
        "    return result"
      ],
      "metadata": {
        "id": "kyh5vP7lhT9r"
      },
      "execution_count": null,
      "outputs": []
    },
    {
      "cell_type": "markdown",
      "source": [
        "Теперь результат работы функции можно положить в переменную и работать с ним дальше"
      ],
      "metadata": {
        "id": "wBIB1APgiiO-"
      }
    },
    {
      "cell_type": "code",
      "source": [
        "print('Общая сумма:', sum_numbers(100, 500, 777))"
      ],
      "metadata": {
        "id": "MPu4Y3rlirXu",
        "colab": {
          "base_uri": "https://localhost:8080/"
        },
        "outputId": "a9b5d83d-7f9c-4875-f72c-465e5d541e92"
      },
      "execution_count": null,
      "outputs": [
        {
          "output_type": "stream",
          "name": "stdout",
          "text": [
            "Общая сумма: 1377\n"
          ]
        }
      ]
    },
    {
      "cell_type": "markdown",
      "source": [
        "После инструкции `return` исполнение функции заканичается, даже если после этого есть код.\n",
        "\n",
        "\n",
        "```\n",
        "def sum_numbers(a, b, c):\n",
        "    result = a + b + c\n",
        "    return result\n",
        "    print('Эта строка никогда не выведется')\n",
        "```\n",
        "\n"
      ],
      "metadata": {
        "id": "qZvrMslMztgo"
      }
    },
    {
      "cell_type": "code",
      "source": [
        "def print_numbers():\n",
        "    n = 1\n",
        "    n += 1\n",
        "    return n\n",
        "    n += 1\n",
        "    n += 1\n",
        "    return n\n",
        "\n",
        "# какое число вернёт функция?\n",
        "print(print_numbers())"
      ],
      "metadata": {
        "id": "XcLVXp5G0Bhx",
        "colab": {
          "base_uri": "https://localhost:8080/"
        },
        "outputId": "1f932664-5924-42c1-8d06-883fbe3ed14e"
      },
      "execution_count": null,
      "outputs": [
        {
          "output_type": "stream",
          "name": "stdout",
          "text": [
            "2\n"
          ]
        }
      ]
    },
    {
      "cell_type": "markdown",
      "source": [
        "### Возвращение нескольких значений"
      ],
      "metadata": {
        "id": "yIktz39w4aZj"
      }
    },
    {
      "cell_type": "markdown",
      "source": [
        "С помощью `return` можно возвратить несколько значений. В этом случае функция вернёт кортеж."
      ],
      "metadata": {
        "id": "v54talnu4sQi"
      }
    },
    {
      "cell_type": "code",
      "source": [
        "def powers(a):\n",
        "    return a ** 1, a ** 2, a ** 3"
      ],
      "metadata": {
        "id": "-8O3YGC95WHh"
      },
      "execution_count": null,
      "outputs": []
    },
    {
      "cell_type": "code",
      "source": [
        "powers(234)"
      ],
      "metadata": {
        "id": "0qOtHBHy53Qv",
        "colab": {
          "base_uri": "https://localhost:8080/"
        },
        "outputId": "4596bc8b-aa9b-462c-c5e4-c97029accb3d"
      },
      "execution_count": null,
      "outputs": [
        {
          "output_type": "execute_result",
          "data": {
            "text/plain": [
              "(234, 54756, 12812904)"
            ]
          },
          "metadata": {},
          "execution_count": 57
        }
      ]
    },
    {
      "cell_type": "markdown",
      "source": [
        "### Пустой return"
      ],
      "metadata": {
        "id": "d7Ltu0RV6UYn"
      }
    },
    {
      "cell_type": "markdown",
      "source": [
        "Если использовать return без значения то функция вернёт None. То же самое происходит, если не испльзовать return вовсе."
      ],
      "metadata": {
        "id": "rrrLhqm46aoR"
      }
    },
    {
      "cell_type": "code",
      "source": [
        "def do_nothing():\n",
        "    return\n",
        "\n",
        "print(do_nothing())"
      ],
      "metadata": {
        "id": "Af9gqEHK6aBf",
        "colab": {
          "base_uri": "https://localhost:8080/"
        },
        "outputId": "5762b943-542b-4242-9857-2dec16137eab"
      },
      "execution_count": null,
      "outputs": [
        {
          "output_type": "stream",
          "name": "stdout",
          "text": [
            "None\n"
          ]
        }
      ]
    },
    {
      "cell_type": "markdown",
      "source": [
        "## Множественные return"
      ],
      "metadata": {
        "id": "HtwhhfwmzOFB"
      }
    },
    {
      "cell_type": "markdown",
      "source": [
        "Если в функции есть ветвление логики, но в ней может быть несколько инструкций `return`."
      ],
      "metadata": {
        "id": "OInwIyw-znJM"
      }
    },
    {
      "cell_type": "code",
      "source": [
        "def absolute_value(number):\n",
        "    if number > 0:\n",
        "        return number\n",
        "    elif number < 0:\n",
        "        return -1 * number\n",
        "    else:\n",
        "        return 0\n",
        "\n",
        "print(absolute_value(0))"
      ],
      "metadata": {
        "id": "TjBvBjGqzk74",
        "colab": {
          "base_uri": "https://localhost:8080/"
        },
        "outputId": "e23bbcbb-b342-4d6c-e288-f3abecac6b8e"
      },
      "execution_count": null,
      "outputs": [
        {
          "output_type": "stream",
          "name": "stdout",
          "text": [
            "0\n"
          ]
        }
      ]
    },
    {
      "cell_type": "markdown",
      "source": [
        "Используя тот факт, что функция завершается при исполнении инструкции return, можно писать более лаконичный код:"
      ],
      "metadata": {
        "id": "SdML5H5K3cY0"
      }
    },
    {
      "cell_type": "code",
      "source": [
        "def absolute_value(number):\n",
        "    if number < 0:\n",
        "        return -1 * number\n",
        "    return number"
      ],
      "metadata": {
        "id": "CwYlokN-3ClJ"
      },
      "execution_count": null,
      "outputs": []
    },
    {
      "cell_type": "code",
      "source": [
        "print(1, 2, 'sdfgsdf', 'fdgdf')"
      ],
      "metadata": {
        "colab": {
          "base_uri": "https://localhost:8080/"
        },
        "id": "maqStHVCBsim",
        "outputId": "b64aa43b-28c1-497b-cc9e-e7b7578d2c8d"
      },
      "execution_count": null,
      "outputs": [
        {
          "output_type": "stream",
          "name": "stdout",
          "text": [
            "1 2 sdfgsdf fdgdf\n"
          ]
        }
      ]
    },
    {
      "cell_type": "markdown",
      "source": [
        "### Задание 5\n",
        "Вы работаете в банке и пишете программу для общения с клиентами.\n",
        "Ваша программа должна запрашивать основные данные клиента, определять, можно ли ему открыть вклад, и рассчитывать, сколько денег он получит в конце года.\n",
        "\n",
        "**Используйте функции**:\n",
        "\n",
        "*   check_age(age)\n",
        "*   calculate_return(deposit, percentage=default_pct)\n",
        "\n",
        "\n",
        "\n",
        "\n",
        "**Условия**\n",
        "- если клиенту нет 18, то вклад открыть нельзя\n",
        "- если сумма вклада меньше 50 000 - ставка составляет 3% годовых\n",
        "- если сумма вклада от 50 000 - 100 000 - ставка составляет 4% годовых\n",
        "- если сумма вклада больше 100 000 - ставка составляет 5% годовых\n",
        "\n",
        "**Подробная инструкция**\n",
        "\n",
        "1.   Запросите имя, возраст клиента. Положите результаты в переменные `name`, `age`\n",
        "2.   Выведите приветсвтие вида \"Добрый день, `name`!\"\n",
        "3.   Проверьте, что клиент совершеннолетний.\n",
        "    - Если да - выведите \"Вы можете открыть вклад\"\n",
        "    - Если нет - выведите на экран \"Вам ещё рано открывать вклад. Приходите через `x` лет\"\n",
        "\n",
        "4. Если больше 18 лет, запросите сумму, которую клиент хочет вложить. Положите её в переменную `deposit`\n",
        "\n",
        "5. Определите процентнтую ставку `rate` исходя из суммы вклада.\n",
        "\n",
        "6. Выведите \"Спасибо за то, что воспользовались нашими услугами, `name`!\" Вы вложили `deposit`, ставка составляет `rate`. В конце года вы можете забрать `y` рублей."
      ],
      "metadata": {
        "id": "QLsl0Eyo35ga"
      }
    },
    {
      "cell_type": "code",
      "source": [
        "username = input(\"Введите ваше имя:\\n\")\n",
        "age = int(input(\"Введите ваш возраст:\\n\"))\n",
        "print(f\"Добрый день, {username}!\")\n",
        "def check_age(age):\n",
        "   if age >= 18:\n",
        "     print('Вы можете открыть вклад.')\n",
        "   elif 13 < age < 18:\n",
        "     print(f'Вам ещё рано открывать вклад. Приходите через {18 - age} года.')\n",
        "   else:\n",
        "     print(f'Вам ещё рано открывать вклад. Приходите через {18 - age} лет.')\n",
        "deposit = int(input(\"Какую сумму вы хотите внести?\\n\"))\n",
        "def calculate_return(deposit,  percentage=3)\n",
        "    if 50000 > deposit >= 10000:\n",
        "        total = (deposit * 1.03)\n",
        "        print(f\"Спасибо за то, что воспользовались нашими услугами, {username}!\")\n",
        "        print(f\"Вы вложили {deposit} рублей, ставка составляет {percent}%.\")\n",
        "        print(f\"В конце года вы можете забрать {total:.2f} рублей.\")\n",
        "    elif 100000 > deposit >= 50000:\n",
        "        total = (deposit * 1.04)\n",
        "        print(f\"Спасибо за то, что воспользовались нашими услугами, {username}!\")\n",
        "        print(f\"Вы вложили {deposit} рублей, ставка составляет {percent}%.\")\n",
        "        print(f\"В конце года вы можете забрать {total:.2f} рублей.\")\n",
        "    elif deposit >= 100000:\n",
        "        total = (deposit * 1.05)\n",
        "        print(f\"Спасибо за то, что воспользовались нашими услугами, {username}!\")\n",
        "        print(f\"Вы вложили {deposit} рублей, ставка составляет {percent}%.\")\n",
        "        print(f\"В конце года вы можете забрать {total:.2f} рублей.\")\n",
        "    else:\n",
        "        print(f'Извините, до минимальной суммы вклада вам не хватает {10000 - deposit} рублей')\n",
        "\n"
      ],
      "metadata": {
        "id": "3Udu4oGx4D__"
      },
      "execution_count": null,
      "outputs": []
    }
  ]
}