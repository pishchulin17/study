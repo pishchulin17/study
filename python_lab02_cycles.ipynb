{
  "nbformat": 4,
  "nbformat_minor": 0,
  "metadata": {
    "colab": {
      "provenance": [],
      "collapsed_sections": [
        "ngkJx50LMZLu",
        "AXA5mKbqNzmd",
        "A-u5PphrN77X",
        "Q7EKEn5DZex8",
        "C33L4DwdyUJ-"
      ],
      "include_colab_link": true
    },
    "kernelspec": {
      "name": "python3",
      "display_name": "Python 3"
    },
    "language_info": {
      "name": "python"
    }
  },
  "cells": [
    {
      "cell_type": "markdown",
      "metadata": {
        "id": "view-in-github",
        "colab_type": "text"
      },
      "source": [
        "<a href=\"https://colab.research.google.com/github/pishchulin17/study/blob/main/python_lab02_cycles.ipynb\" target=\"_parent\"><img src=\"https://colab.research.google.com/assets/colab-badge.svg\" alt=\"Open In Colab\"/></a>"
      ]
    },
    {
      "cell_type": "markdown",
      "source": [
        "# **Лабораторная работа №3: циклы**"
      ],
      "metadata": {
        "id": "ngkJx50LMZLu"
      }
    },
    {
      "cell_type": "markdown",
      "source": [
        "## 1. Угадай число\n",
        "Программа генерирует случайное число **a** от 0 до 100.\n",
        "Необходимо написать программу, которая предлагает пользователю угадать сгенерированное (загаданное) число.\n",
        "Пока число **a** не совпадет с числом **b**, пользователю должно предлагаться ввести очередное число. При этом, если **b > a**, то на экран необходимо выдавать сообщение \"Много\". Иначе будет проверяться условие **b < a**. При его положительном значении необходимо вывести сообщение \"Мало\", иначе сообщение \"Угадал\".\n",
        "\n",
        "Генерация числа осуществляется с помощью модуля **random**"
      ],
      "metadata": {
        "id": "OTciMBo4ylE8"
      }
    },
    {
      "cell_type": "code",
      "source": [
        "import random\n",
        "b = 0\n",
        "a = random.randint(1, 100)\n",
        "\n",
        "while a != b:\n",
        "  b = int(input())\n",
        "  if b > a:\n",
        "    print(\"много\")\n",
        "  elif b < a:\n",
        "    print(\"мало\")\n",
        "print('Угадал')\n"
      ],
      "metadata": {
        "id": "WgHkg0ziymrR"
      },
      "execution_count": null,
      "outputs": []
    },
    {
      "cell_type": "markdown",
      "source": [
        "## 2. Минимальный делитель"
      ],
      "metadata": {
        "id": "x07J7LEeX2I9"
      }
    },
    {
      "cell_type": "markdown",
      "metadata": {
        "id": "sGsQs1KoyUJ-"
      },
      "source": [
        "Дано целое число, не меньшее 2. Выведите его наименьший натуральный делитель, отличный от 1. \n",
        "Напишите программу в 2-х вариантах - с помощью цикла for и while."
      ]
    },
    {
      "cell_type": "code",
      "source": [
        "#Task2(cycleFor)\n",
        "\n",
        "n = int(input())\n",
        "for i in range(2, n+1):\n",
        "    if n % i == 0:\n",
        "        break\n",
        "print(i)\n",
        "\n",
        "#Task2(cycleWhile)\n",
        "\n",
        "n = int(input())\n",
        "a = 2\n",
        "while n % a != 0:\n",
        "  a += 1\n",
        "print(a)\n"
      ],
      "metadata": {
        "id": "H5XvYYpwyzJO"
      },
      "execution_count": null,
      "outputs": []
    },
    {
      "cell_type": "markdown",
      "source": [
        "## 3. Сумма чисел v2\n",
        "Напишите программу, где пользователь вводит любое целое положительное число, а программа выводит сумму всех чисел в диапазоне от 1 до введенного пользователем числа, которые кратны трём.\n",
        "\n",
        "Если пользователь введет отрицательное число, еобходимо вывести сообщение:\" Введеное число - отрицательное\". А если таких чисел нет, необходимо вывести сообщение:\"Введеное число меньше трёх!\". Далее необходимо повторно предложить ввести число."
      ],
      "metadata": {
        "id": "m_bo3s7qwiKV"
      }
    },
    {
      "cell_type": "code",
      "source": [
        "n = int(input(\"Введите число\\n\"))\n",
        "if n < 0:\n",
        "  print(\"Введеное число - отрицательное\")\n",
        "  n = int(input(\"Введите число повторно\\n\"))\n",
        "elif n < 3:\n",
        "  print(\"Введеное число меньше трёх!\")\n",
        "  n = int(input(\"Введите число повторно\\n\"))\n",
        "sum = 0  \n",
        "for i in range (1, n+1):\n",
        "  if i % 3 == 0:\n",
        "    sum += i\n",
        "print(f\"Сумма чисел кратных трём - {sum}\")    \n",
        "\n"
      ],
      "metadata": {
        "id": "RY60fLCyyz39"
      },
      "execution_count": null,
      "outputs": []
    },
    {
      "cell_type": "markdown",
      "source": [
        "## 4. Простейший калькулятор\n",
        "\n",
        "Написать программу, в которой вводятся два числа-операнда x и y и знак арифметической операции (+, –, /, *). Вычислить результат z в зависимости от знака.\n",
        "\n",
        "Предусмотреть реакции на возможный неверный знак операции, а также на ввод y=0 при делении.\n",
        "\n",
        "Организовать возможность многократных вычислений без перезагрузки программы (то есть построить цикл). В качестве символа прекращения вычислений принять '0'."
      ],
      "metadata": {
        "id": "1vE4XvXe2z86"
      }
    },
    {
      "cell_type": "code",
      "source": [
        "\n",
        "while True:\n",
        "   x, operand, y = int(input(\"введите x\\n\")), input(\"введите +, -, /, * \\n\"), int(input(\"введите y\\n\"))\n",
        "   if operand == \"/\" and y == 0:\n",
        "     print(\"Деление на ноль невозможно\")   \n",
        "   elif operand != \"/\" and operand != '+' and operand != \"*\" and operand != \"-\":\n",
        "     print(\"неверный оператор\")   \n",
        "   elif operand == \"+\":\n",
        "      print(f\"результат: {x + y}\")\n",
        "   elif operand == \"-\":\n",
        "      print(f\"результат: {x - y}\")  \n",
        "   elif operand == \"/\":\n",
        "      print(f\"результат: {x / y}\")   \n",
        "   elif operand == \"*\":\n",
        "      print(f\"результат: {x * y}\")\n",
        "   end_continue = input(\"Продолжить - 1, Закончить - 0\")\n",
        "   if end_continue == \"0\":\n",
        "     break\n",
        "   elif end_continue == \"1\":\n",
        "     continue\n",
        "\n",
        "      \n",
        "\n"
      ],
      "metadata": {
        "id": "mao5Jmr93BIj"
      },
      "execution_count": null,
      "outputs": []
    },
    {
      "cell_type": "code",
      "source": [],
      "metadata": {
        "id": "oU8zSmnan8p6"
      },
      "execution_count": null,
      "outputs": []
    }
  ]
}
