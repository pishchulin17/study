{
  "nbformat": 4,
  "nbformat_minor": 0,
  "metadata": {
    "colab": {
      "provenance": [],
      "collapsed_sections": [
        "ZXrs6qLanS5W",
        "eEguS6KZdE3Q",
        "NX9k1dmBAje2",
        "3eqrAtAzJogw"
      ],
      "include_colab_link": true
    },
    "kernelspec": {
      "name": "python3",
      "display_name": "Python 3"
    },
    "language_info": {
      "name": "python"
    }
  },
  "cells": [
    {
      "cell_type": "markdown",
      "metadata": {
        "id": "view-in-github",
        "colab_type": "text"
      },
      "source": [
        "<a href=\"https://colab.research.google.com/github/pishchulin17/study/blob/main/python_lab7_files.ipynb\" target=\"_parent\"><img src=\"https://colab.research.google.com/assets/colab-badge.svg\" alt=\"Open In Colab\"/></a>"
      ]
    },
    {
      "cell_type": "markdown",
      "source": [
        "# Полезные операции с текстом"
      ],
      "metadata": {
        "id": "ZXrs6qLanS5W"
      }
    },
    {
      "cell_type": "code",
      "source": [
        "verse = 'Мой дядя самых честных правил,Когда не в шутку занемог,Он уважать себя заставил,И лучше выдумать не мог'"
      ],
      "metadata": {
        "id": "Vx7GXCmgTtH9"
      },
      "execution_count": 2,
      "outputs": []
    },
    {
      "cell_type": "markdown",
      "source": [
        "[Строковые методы в python - оф. документация](https://docs.python.org/3/library/stdtypes.html#string-methods)\n",
        "\n",
        "[Строковые методы split() и join()](https://pythonist.ru/strokovye-metody-split-i-join-v-python/)"
      ],
      "metadata": {
        "id": "1q8mBHJOP6JQ"
      }
    },
    {
      "cell_type": "markdown",
      "source": [
        "## Разбивка текста на подстроки. метод .split()"
      ],
      "metadata": {
        "id": "IaqXbAUUSpsM"
      }
    },
    {
      "cell_type": "code",
      "source": [
        "# разбивка строки на подстроки. метод .split()\n",
        "verse.split()"
      ],
      "metadata": {
        "id": "nJIHPPi_PvAS",
        "outputId": "c5434bb7-5da5-4903-c113-2d4353083cd3",
        "colab": {
          "base_uri": "https://localhost:8080/"
        }
      },
      "execution_count": 3,
      "outputs": [
        {
          "output_type": "execute_result",
          "data": {
            "text/plain": [
              "['Мой',\n",
              " 'дядя',\n",
              " 'самых',\n",
              " 'честных',\n",
              " 'правил,Когда',\n",
              " 'не',\n",
              " 'в',\n",
              " 'шутку',\n",
              " 'занемог,Он',\n",
              " 'уважать',\n",
              " 'себя',\n",
              " 'заставил,И',\n",
              " 'лучше',\n",
              " 'выдумать',\n",
              " 'не',\n",
              " 'мог']"
            ]
          },
          "metadata": {},
          "execution_count": 3
        }
      ]
    },
    {
      "cell_type": "code",
      "source": [
        "# разбивка строки по определённому символу\n",
        "verse.split(',')"
      ],
      "metadata": {
        "id": "g4qwZX2nQ-1k",
        "outputId": "dc61b0c1-67fa-4d0c-9243-2d8b23fd8f1c",
        "colab": {
          "base_uri": "https://localhost:8080/"
        }
      },
      "execution_count": 4,
      "outputs": [
        {
          "output_type": "execute_result",
          "data": {
            "text/plain": [
              "['Мой дядя самых честных правил',\n",
              " 'Когда не в шутку занемог',\n",
              " 'Он уважать себя заставил',\n",
              " 'И лучше выдумать не мог']"
            ]
          },
          "metadata": {},
          "execution_count": 4
        }
      ]
    },
    {
      "cell_type": "markdown",
      "source": [
        "## Объединене подстрок. Метод .join()"
      ],
      "metadata": {
        "id": "eTLXR4zCSRnh"
      }
    },
    {
      "cell_type": "code",
      "source": [
        "# метод .join()\n",
        "verse_list = verse.split(',')\n",
        "verse_list"
      ],
      "metadata": {
        "id": "PScSK7XXSMiJ",
        "outputId": "24c1cca8-6232-4c78-c0f2-b9e801070576",
        "colab": {
          "base_uri": "https://localhost:8080/"
        }
      },
      "execution_count": 29,
      "outputs": [
        {
          "output_type": "execute_result",
          "data": {
            "text/plain": [
              "['Мой дядя самых честных правил',\n",
              " 'Когда не в шутку занемог',\n",
              " 'Он уважать себя заставил',\n",
              " 'И лучше выдумать не мог']"
            ]
          },
          "metadata": {},
          "execution_count": 29
        }
      ]
    },
    {
      "cell_type": "code",
      "source": [
        "formatted_verse = '\\n'.join(verse_list)\n",
        "print(formatted_verse)"
      ],
      "metadata": {
        "id": "Wl-6-NlWTJX-",
        "outputId": "0b12eb25-2af3-407c-8b24-b5b33f463210",
        "colab": {
          "base_uri": "https://localhost:8080/"
        }
      },
      "execution_count": 30,
      "outputs": [
        {
          "output_type": "stream",
          "name": "stdout",
          "text": [
            "Мой дядя самых честных правил\n",
            "Когда не в шутку занемог\n",
            "Он уважать себя заставил\n",
            "И лучше выдумать не мог\n"
          ]
        }
      ]
    },
    {
      "cell_type": "markdown",
      "source": [
        "### Задача 1\n",
        "Вам дано текстовое описание того, где лежит файл `passwords.txt`.\n",
        "\n",
        "Превратите его в путь вида /..../..../passwords.txt и выведите на экран\n",
        "\n",
        "- обратите внимание, что итоговый путь должен начинаться от корневой папки home и идти слева направо, заканчивась именем файла\n"
      ],
      "metadata": {
        "id": "wZI6kG-UU9gy"
      }
    },
    {
      "cell_type": "code",
      "source": [
        "description = 'passwords.txt находится в папке my_data находится в папке ivanov находится в папке home'\n",
        "result = description.split(' находится в папке ')\n",
        "result_2 = result[::-1]\n",
        "formatted_result = '/'.join(result_2)\n",
        "print(formatted_result)\n"
      ],
      "metadata": {
        "id": "5gLESKdoViso",
        "outputId": "9ee807a7-bff4-4cf9-ffd2-0e04e8b3ba86",
        "colab": {
          "base_uri": "https://localhost:8080/"
        }
      },
      "execution_count": 55,
      "outputs": [
        {
          "output_type": "stream",
          "name": "stdout",
          "text": [
            "home/ivanov/my_data/passwords.txt\n"
          ]
        }
      ]
    },
    {
      "cell_type": "markdown",
      "source": [
        "# Работа с файлами"
      ],
      "metadata": {
        "id": "eEguS6KZdE3Q"
      }
    },
    {
      "cell_type": "code",
      "source": [
        "# скачать набор текстовых файлов для дальнейшей работы\n",
        "!git clone https://github.com/engr-rudn/poetry"
      ],
      "metadata": {
        "id": "5vJdShCXHxsi",
        "outputId": "561cdb47-9c7d-449a-b3f3-f6a456f7f10b",
        "colab": {
          "base_uri": "https://localhost:8080/"
        }
      },
      "execution_count": 31,
      "outputs": [
        {
          "output_type": "stream",
          "name": "stdout",
          "text": [
            "Cloning into 'poetry'...\n",
            "remote: Enumerating objects: 8, done.\u001b[K\n",
            "remote: Counting objects: 100% (8/8), done.\u001b[K\n",
            "remote: Compressing objects: 100% (8/8), done.\u001b[K\n",
            "remote: Total 8 (delta 0), reused 0 (delta 0), pack-reused 0\u001b[K\n",
            "Unpacking objects: 100% (8/8), 18.94 KiB | 3.79 MiB/s, done.\n"
          ]
        }
      ]
    },
    {
      "cell_type": "markdown",
      "source": [
        "## Операции с текстовыми файлами"
      ],
      "metadata": {
        "id": "2CF_A8CinthE"
      }
    },
    {
      "cell_type": "markdown",
      "source": [
        "## Открытие файла (функция **open**)"
      ],
      "metadata": {
        "id": "jw0EpPLp-OoB"
      }
    },
    {
      "cell_type": "markdown",
      "source": [
        "У функции **open** много параметров:\n",
        "\n",
        "`open(file, mode='r', buffering=None, encoding=None, errors=None, newline=None, closefd=True)`\n",
        "\n",
        "Как видно, только один является обязательным - это имя файла(**file**).\n",
        "Путь к файлу может быть относительным или абсолютным. \n",
        "\n",
        "Второй аргумент, который нам важен - это режим, в котором мы будем открывать файл. **mode** может принимать различные значения:\n",
        "\n",
        "*   **r**  -\tоткрытие на чтение (является значением по умолчанию).\n",
        "*   **w**  -\tоткрытие на запись (содержимое файла удаляется, если файла не существует - создается новый)\n",
        "*   **x**  -\tоткрытие на запись, если файла не существует (иначе - исключение).\n",
        "*   **a**  -\tоткрытие на дозапись, информация добавляется в конец файла.\n",
        "*   **b**  -\tоткрытие в двоичном режиме.\n",
        "*   **t**  -\tоткрытие в текстовом режиме (является значением по умолчанию).\n",
        "*   **+**  -\tоткрытие на обновление (чтение и запись)\n",
        "\n",
        "более подробно про открытие файлов можно почитать здесь: [функция open()](https://docs-python.ru/tutorial/vstroennye-funktsii-interpretatora-python/funktsija-open/)\n",
        "\n",
        "*Режимы могут быть объединены*"
      ],
      "metadata": {
        "id": "xbO6tc25K9iP"
      }
    },
    {
      "cell_type": "markdown",
      "source": [
        "## Чтение из файла"
      ],
      "metadata": {
        "id": "YCRlFEXCqN9I"
      }
    },
    {
      "cell_type": "code",
      "source": [
        "poem_text_file = open('poetry/салтан.txt')"
      ],
      "metadata": {
        "id": "qUidO4M0rD7A"
      },
      "execution_count": 60,
      "outputs": []
    },
    {
      "cell_type": "markdown",
      "source": [
        "- read() - считать всё содержимое\n",
        "- readline() - считывать по одной строке за раз\n",
        "- readlines() - преобразовать текст в набор строк"
      ],
      "metadata": {
        "id": "Q-h6CX5tIdp5"
      }
    },
    {
      "cell_type": "code",
      "source": [
        "poem_text_file.readlines()"
      ],
      "metadata": {
        "id": "D24vCfN_I-IS"
      },
      "execution_count": null,
      "outputs": []
    },
    {
      "cell_type": "markdown",
      "source": [
        "После заврешения работы с файлом его нужно обязательно закрыть методом .close()"
      ],
      "metadata": {
        "id": "N7UTRZpdI_gx"
      }
    },
    {
      "cell_type": "code",
      "source": [
        "poem_text_file.close()"
      ],
      "metadata": {
        "id": "4SCV_dcnJENK"
      },
      "execution_count": 64,
      "outputs": []
    },
    {
      "cell_type": "markdown",
      "source": [
        "### Чтение использованием менеджера контекста with"
      ],
      "metadata": {
        "id": "bYIPR1avruUn"
      }
    },
    {
      "cell_type": "code",
      "source": [
        "with open('poetry/салтан.txt') as textfile:\n",
        "    print(textfile.read())\n",
        "    "
      ],
      "metadata": {
        "id": "AE8M8VPBr1t-"
      },
      "execution_count": null,
      "outputs": []
    },
    {
      "cell_type": "markdown",
      "source": [
        "### Задача 2\n",
        "Выведите на экран строчки сказки о царе Салтане (`poetry/салтан.txt`), в которых упомянуто слово `море`"
      ],
      "metadata": {
        "id": "vLGC5VU2t98U"
      }
    },
    {
      "cell_type": "code",
      "source": [
        "with open('poetry/салтан.txt') as saltan:\n",
        "    lines = saltan.readlines()\n",
        "    for line in lines:\n",
        "     if 'море' or \"Море\" in line:\n",
        "      print(line)\n",
        "   "
      ],
      "metadata": {
        "id": "11Mmg5Tlul-a"
      },
      "execution_count": null,
      "outputs": []
    },
    {
      "cell_type": "markdown",
      "source": [
        "## Запись в файл"
      ],
      "metadata": {
        "id": "r2ulVI93AX-g"
      }
    },
    {
      "cell_type": "markdown",
      "source": [
        "Существует три основных способа записи, которые работают в случае, когда файл открыт в режими записи или редактирования(**\"w\"**,**\"x\"**,**\"a\"**).\n",
        "\n",
        "\n",
        "*   write('строка')\n",
        "*   writelines([список из строк])\n",
        "*   print(данные, file=\"\")"
      ],
      "metadata": {
        "id": "D8AL6Y8GLHlf"
      }
    },
    {
      "cell_type": "code",
      "source": [
        "with open('my_text.txt', 'w') as my_text:\n",
        "  my_text.write('моя строка')"
      ],
      "metadata": {
        "id": "G0oUTWPm9_Hp"
      },
      "execution_count": 81,
      "outputs": []
    },
    {
      "cell_type": "code",
      "source": [
        "# writelines"
      ],
      "metadata": {
        "id": "Kl-1NY0V_FKg"
      },
      "execution_count": null,
      "outputs": []
    },
    {
      "cell_type": "code",
      "source": [
        "# режим append"
      ],
      "metadata": {
        "id": "zOfmuUOr-Tj5"
      },
      "execution_count": null,
      "outputs": []
    },
    {
      "cell_type": "markdown",
      "source": [
        "### Задача\n",
        "Прочитайте первые 7 строк из файла `poetry/береза.txt` и запишите их в новый файл `short.txt`"
      ],
      "metadata": {
        "id": "YBXUqBlU-_Wi"
      }
    },
    {
      "cell_type": "code",
      "source": [
        "with open('poetry/береза.txt') as text_1:\n",
        "  text_1 = text_1.readlines()\n",
        "with open('short.txt', 'w') as text_2:\n",
        "   text_2.writelines(text_1[:7])\n",
        "\n"
      ],
      "metadata": {
        "id": "vHN42D9vync-"
      },
      "execution_count": 98,
      "outputs": []
    },
    {
      "cell_type": "markdown",
      "source": [
        "# Работа с директориями"
      ],
      "metadata": {
        "id": "NX9k1dmBAje2"
      }
    },
    {
      "cell_type": "markdown",
      "source": [
        "Для работы с директориями используются модули **os**, **os.path**, **shutil**. Они работают с операционной системой компьютера и позволяют взаимодейстовать с файловой системой. Вот некоторые функции модуля **os**:\n",
        "\n",
        "*   **listdir('path')** возвращает список, содержащий имена файлов и директорий в каталоге, заданном путем path(строка).\n",
        "*   **getcwd()** вернет строку, представляющую текущий рабочий каталог.\n",
        "*   **chdir('path')** изменяет текущий рабочий каталог\n",
        "*   **walk()** генерирует имена файлов в дереве каталогов, обходя дерево сверху вниз или снизу вверх. [Подробнее](https://docs-python.ru/standart-library/modul-os-python/funktsija-walk-modulja-os/)\n",
        "*   **mkdir('path')** создает каталог с именем path\n",
        "*   **rmdir('path')** удаляет каталог с именем path\n",
        "*   **rename(src,dst)** переименовывает файл или каталог с именем src в dst\n",
        "*   **remove('path')** удаляет путь path к файлу (удаляет файл)\n",
        "\n",
        "Некоторые функции модуля **os.path**:\n",
        "*   **isdir('path')** возвращает True если путь path существует и является каталогом\n",
        "*   **isfile()** возвращает True если путь path существует и является обычным файлом"
      ],
      "metadata": {
        "id": "SW_b4EZ_Aogf"
      }
    },
    {
      "cell_type": "code",
      "source": [
        "# импортируем библиотеку для работы с системой\n",
        "import os"
      ],
      "metadata": {
        "id": "F2CWNy4OA-BW"
      },
      "execution_count": null,
      "outputs": []
    },
    {
      "cell_type": "code",
      "source": [
        "os.listdir() # просмотр файлов в текущей директории"
      ],
      "metadata": {
        "id": "IlTyCJ17u-N4"
      },
      "execution_count": null,
      "outputs": []
    },
    {
      "cell_type": "code",
      "source": [
        "os.getcwd() # текущая директория"
      ],
      "metadata": {
        "id": "7Lf1U_mF1jMk"
      },
      "execution_count": null,
      "outputs": []
    },
    {
      "cell_type": "code",
      "source": [
        "os.listdir('sample_data')   # просмотр файлов в директории 'sample_data'"
      ],
      "metadata": {
        "id": "Nw9VIIeJvBRQ"
      },
      "execution_count": null,
      "outputs": []
    },
    {
      "cell_type": "code",
      "source": [
        "os.mkdir('my_folder')"
      ],
      "metadata": {
        "id": "akUzs2tVCGkW"
      },
      "execution_count": null,
      "outputs": []
    },
    {
      "cell_type": "code",
      "source": [
        "os.mkdir('my_folder/subfolder')"
      ],
      "metadata": {
        "id": "qQW8vuFeC5XU"
      },
      "execution_count": null,
      "outputs": []
    },
    {
      "cell_type": "code",
      "source": [
        "# создание промежуточных директорий\n",
        "os.makedirs('my_folder/subfolder/a/b/c')"
      ],
      "metadata": {
        "id": "6rbhY3YmDA2r"
      },
      "execution_count": null,
      "outputs": []
    },
    {
      "cell_type": "markdown",
      "source": [
        "Некоторые функции модуля **shutil**:\n",
        "*   **copy(src,dst)**  копирует файл src в файл или каталог dst"
      ],
      "metadata": {
        "id": "fxYUn4L5D17M"
      }
    },
    {
      "cell_type": "code",
      "source": [
        "import shutil"
      ],
      "metadata": {
        "id": "ZHsY9doGD8sd"
      },
      "execution_count": null,
      "outputs": []
    },
    {
      "cell_type": "code",
      "source": [
        "shutil.copy('sample_data/mnist_test.csv','my_folder/mnist_test.csv')"
      ],
      "metadata": {
        "id": "tzhBXHZXD2Yb"
      },
      "execution_count": null,
      "outputs": []
    },
    {
      "cell_type": "code",
      "source": [
        "shutil.move('sample_data/mnist_test.csv','my_folder/mnist_test.csv')"
      ],
      "metadata": {
        "id": "yXh60g6LE4r8"
      },
      "execution_count": null,
      "outputs": []
    },
    {
      "cell_type": "markdown",
      "source": [
        "- os.remove() удаляет файл\n",
        "\n",
        "- os.rmdir() удаляет пустую директорию.\n",
        "\n",
        "- shutil.rmtree() удаляет директорию со всем содержимым."
      ],
      "metadata": {
        "id": "9rHDKIKXFtXT"
      }
    },
    {
      "cell_type": "markdown",
      "source": [
        "# Домашнее задание"
      ],
      "metadata": {
        "id": "3eqrAtAzJogw"
      }
    },
    {
      "cell_type": "markdown",
      "source": [
        "Каждое стихотворение в папке poetry на первой строке содержит имя автора и название произведения в формате `%автор% - %произведение%.\n",
        "Напишите программу, которая сохранит каждое стихотворение в папку с названием автора. \n",
        "\n",
        "\n",
        "Пример: poetry/береза.txt нужно скопировать в poetry/Есенин/береза.txt"
      ],
      "metadata": {
        "id": "DeOc6sUcJsAI"
      }
    },
    {
      "cell_type": "code",
      "source": [],
      "metadata": {
        "id": "zqGFiRB_JrMI"
      },
      "execution_count": null,
      "outputs": []
    }
  ]
}